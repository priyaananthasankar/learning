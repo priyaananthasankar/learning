{
 "cells": [
  {
   "cell_type": "markdown",
   "metadata": {},
   "source": [
    "# Inter-rater agreement Kappas\n",
    "a.k.a. inter-rater reliability or concordance\n",
    "\n",
    "> In statistics, inter-rater reliability, inter-rater agreement, or concordance is the degree of agreement among raters. It gives a score of how much homogeneity, or consensus, there is in the ratings given by judges.\n",
    "\n",
    "The Kappas covered here are most appropriate for **\"nominal\"** data. The natural ordering in the data (if any exists) is ignored by these methods. If you're going to use these metrics make sure you're aware of the [limitations](https://www.wikiwand.com/en/Cohen%27s_kappa#/Limitations)."
   ]
  },
  {
   "cell_type": "markdown",
   "metadata": {},
   "source": [
    "### Cohen's Kappa"
   ]
  },
  {
   "cell_type": "markdown",
   "metadata": {},
   "source": [
    "\\begin{equation*}\n",
    "\\kappa =  1 - \\frac{1 - p_o}{1 - p_e}\n",
    "\\end{equation*}\n",
    "\n",
    "There's two parts to this:\n",
    "1. Calculate observed agreement\n",
    "2. Calculate agreement by chance\n",
    "\n",
    "Let's say we're dealing with \"yes\" and \"no\" answers and 2 raters. Here are the ratings:"
   ]
  },
  {
   "cell_type": "code",
   "execution_count": 2,
   "metadata": {
    "collapsed": true
   },
   "outputs": [],
   "source": [
    "rater1 = ['yes', 'no', 'yes', 'yes', 'yes', 'yes', 'no', 'yes', 'yes']\n",
    "rater2 = ['yes', 'no', 'no', 'yes', 'yes', 'yes', 'yes', 'yes', 'yes']"
   ]
  },
  {
   "cell_type": "markdown",
   "metadata": {},
   "source": [
    "Turning these ratings into a confusion matrix:\n",
    "\n",
    "|           |Rater 2 yes|Rater 2 no|\n",
    "|-----------|-----------|----------|\n",
    "|Rater 1 yes|6          |1         |\n",
    "|Rater 2 no |1          |1         |\n",
    "\n",
    "```\n",
    "Observed agreement = (6 + 1) / 10 = 0.7\n",
    "Chance agreement   = probability of randomly saying yes (P_yes) + probability of randomly saying no (P_no)\n",
    "P_yes              = (6 + 1) / 10 * (6 + 1) / 10 = 0.49\n",
    "P_no               = (1 + 1) / 10 * (1 + 1) / 10 = 0.04\n",
    "Chance agreement   = 0.49 + 0.04 = 0.53\n",
    "```\n",
    "\n",
    "Since the observed agreement is larger than chance agreement we'll get a positive Kappa.\n",
    "\n",
    "```\n",
    "kappa = 1 - (1 - 0.7) / (1 - 0.53) = 0.36\n",
    "```"
   ]
  },
  {
   "cell_type": "markdown",
   "metadata": {},
   "source": [
    "Or just use `sklearn`'s implementation"
   ]
  },
  {
   "cell_type": "code",
   "execution_count": 7,
   "metadata": {
    "collapsed": true
   },
   "outputs": [],
   "source": [
    "from sklearn.metrics import cohen_kappa_score"
   ]
  },
  {
   "cell_type": "code",
   "execution_count": 8,
   "metadata": {},
   "outputs": [
    {
     "data": {
      "text/plain": [
       "0.35714285714285721"
      ]
     },
     "execution_count": 8,
     "metadata": {},
     "output_type": "execute_result"
    }
   ],
   "source": [
    "cohen_kappa_score(rater1, rater2)"
   ]
  },
  {
   "cell_type": "markdown",
   "metadata": {},
   "source": [
    "#### Interpretation of Kappa\n",
    "<img src=\"https://i.stack.imgur.com/kYNd6.png\">"
   ]
  },
  {
   "cell_type": "markdown",
   "metadata": {},
   "source": [
    "### Different cases"
   ]
  },
  {
   "cell_type": "markdown",
   "metadata": {},
   "source": [
    "#### Less than chance agreement"
   ]
  },
  {
   "cell_type": "code",
   "execution_count": 26,
   "metadata": {},
   "outputs": [
    {
     "data": {
      "text/plain": [
       "-0.21212121212121215"
      ]
     },
     "execution_count": 26,
     "metadata": {},
     "output_type": "execute_result"
    }
   ],
   "source": [
    "rater1 = ['no', 'no', 'no', 'no', 'no', 'yes', 'no', 'no', 'no', 'no']\n",
    "rater2 = ['yes', 'no', 'no', 'yes', 'yes', 'no', 'yes', 'yes', 'yes', 'yes']\n",
    "cohen_kappa_score(rater1, rater2)"
   ]
  },
  {
   "cell_type": "markdown",
   "metadata": {},
   "source": [
    "#### If all the ratings are the same and opposite\n",
    "This case reliably produces a `kappa` of 0"
   ]
  },
  {
   "cell_type": "code",
   "execution_count": 33,
   "metadata": {},
   "outputs": [
    {
     "data": {
      "text/plain": [
       "0.0"
      ]
     },
     "execution_count": 33,
     "metadata": {},
     "output_type": "execute_result"
    }
   ],
   "source": [
    "rater1 = ['yes'] * 10\n",
    "rater2 = ['no'] * 10\n",
    "cohen_kappa_score(rater1, rater2)"
   ]
  },
  {
   "cell_type": "markdown",
   "metadata": {},
   "source": [
    "#### Random ratings\n",
    "For random ratings `Kappa` follows a normal distribution with a mean of about zero.\n",
    "\n",
    "As the number of ratings increases there's less variability in the value of Kappa in the distribution."
   ]
  },
  {
   "cell_type": "code",
   "execution_count": null,
   "metadata": {
    "collapsed": true
   },
   "outputs": [],
   "source": [
    "%matplotlib inline"
   ]
  },
  {
   "cell_type": "code",
   "execution_count": 49,
   "metadata": {},
   "outputs": [
    {
     "name": "stdout",
     "output_type": "stream",
     "text": [
      "10 random ratings for each rater (random sample of 1,000 inter-rater Kappa calculations)\n"
     ]
    },
    {
     "data": {
      "image/png": "[encoded data removed]",
      "text/plain": [
       "<matplotlib.figure.Figure at 0x111109860>"
      ]
     },
     "metadata": {},
     "output_type": "display_data"
    },
    {
     "name": "stdout",
     "output_type": "stream",
     "text": [
      "\n",
      "\n",
      "100 random ratings for each rater (random sample of 1,000 inter-rater Kappa calculations)\n"
     ]
    },
    {
     "data": {
      "image/png": "[encoded data removed]",
      "text/plain": [
       "<matplotlib.figure.Figure at 0x110ac0198>"
      ]
     },
     "metadata": {},
     "output_type": "display_data"
    },
    {
     "name": "stdout",
     "output_type": "stream",
     "text": [
      "\n",
      "\n",
      "1000 random ratings for each rater (random sample of 1,000 inter-rater Kappa calculations)\n"
     ]
    },
    {
     "data": {
      "image/png": "[encoded data removed]",
      "text/plain": [
       "<matplotlib.figure.Figure at 0x1112c7f60>"
      ]
     },
     "metadata": {},
     "output_type": "display_data"
    },
    {
     "name": "stdout",
     "output_type": "stream",
     "text": [
      "\n",
      "\n"
     ]
    }
   ],
   "source": [
    "import matplotlib.pyplot as plt\n",
    "import numpy as np\n",
    "import pandas as pd\n",
    "np.random.seed(0)\n",
    "\n",
    "\n",
    "for i in [10, 100, 1000]:\n",
    "    print('{} random ratings for each rater (random sample of 1,000 inter-rater Kappa calculations)'.format(i))\n",
    "    kappas = [cohen_kappa_score(np.random.choice(['yes', 'no'], i),\n",
    "                       np.random.choice(['yes', 'no'], i)) for _ in range(1000)]\n",
    "    pd.Series(kappas).hist();\n",
    "    plt.xlim([-1, 1])\n",
    "    plt.show();\n",
    "    print('\\n')"
   ]
  },
  {
   "cell_type": "markdown",
   "metadata": {},
   "source": [
    "You can find more details [here](https://www.wikiwand.com/en/Cohen%27s_kappa)\n",
    "\n",
    "**Note that Cohen's Kappa only applied to 2 raters rating the exact same items.**"
   ]
  },
  {
   "cell_type": "markdown",
   "metadata": {},
   "source": [
    "### Fleiss\n",
    "Extends Cohen's Kappa to more than 2 raters."
   ]
  },
  {
   "cell_type": "markdown",
   "metadata": {},
   "source": [
    "Interpretation\n",
    "> It can be interpreted as expressing the extent to which the observed amount of agreement among raters exceeds what would be expected if all raters made their ratings completely randomly.\n",
    "\n",
    "The raters can rate different items whereas for Cohen's they need to rate the exact same items\n",
    "> Fleiss' kappa specifically allows that although there are a fixed number of raters (e.g., three), different items may be rated by different individuals\n",
    "\n",
    "\\begin{equation*}\n",
    "\\kappa =  \\frac{\\bar p - \\bar p_e}{1-\\bar p_e}\n",
    "\\end{equation*}"
   ]
  },
  {
   "cell_type": "markdown",
   "metadata": {},
   "source": [
    "For example let's say we have 10 raters, each doing a \"yes\" or \"no\" rating on 5 items:\n",
    "\n",
    "n_ij | yes | no | P_i\n",
    "--- | --- | --- | ---\n",
    "1 | 10 | 0 | 1\n",
    "2 | 8 | 2 | 0.64\n",
    "3 | 9 | 1 | 0.8\n",
    "4 | 0 | 10 | 1\n",
    "5 | 7 | 3 | 0.53\n",
    "**Total** | **34** | **16** | \n",
    "p_j | 0.68 | 0.32 |\n",
    "\n",
    "For example the first row (P_1):\n",
    "```\n",
    "P_1 = (10 ** 2 + 0 ** 2 - 10) / (10 * 9) = 1\n",
    "```\n",
    "\n",
    "And the first columns (p_1):\n",
    "```\n",
    "p_1 = 34 / (5 * 10) = 0.68\n",
    "```\n",
    "\n",
    "Go through the worked example [here](https://www.wikiwand.com/en/Fleiss'_kappa#/Worked_example) if this is not clear.\n",
    "\n",
    "Now you can calculate Kappa:\n",
    "```\n",
    "P_bar = (1 / 5) * (1 + 0.64 + 0.8 + 1 + 0.53) = 0.794\n",
    "P_bar_e = 0.68 ** 2 + 0.32 ** 2 = 0.5648\n",
    "```\n",
    "\n",
    "At this point we have everything we need and `kappa` is calculated just as we calculated Cohen's:\n",
    "```\n",
    "kappa = (0.794 - 0.5648) / (1 - 0.5648) = 0.53\n",
    "```"
   ]
  },
  {
   "cell_type": "code",
   "execution_count": 115,
   "metadata": {},
   "outputs": [],
   "source": [
    "# Adapted from https://gist.github.com/ShinNoNoir/4749548\n",
    "def fleiss_kappa(ratings, n):\n",
    "    '''\n",
    "    Computes the Fleiss' kappa measure for assessing the reliability of \n",
    "    agreement between a fixed number n of raters when assigning categorical\n",
    "    ratings to a number of items.\n",
    "    \n",
    "    Args:\n",
    "        ratings: a list of (item, category)-ratings\n",
    "        n: number of raters\n",
    "        k: number of categories\n",
    "    Returns:\n",
    "        the Fleiss' kappa score\n",
    "    \n",
    "    See also:\n",
    "        http://en.wikipedia.org/wiki/Fleiss'_kappa\n",
    "    '''\n",
    "    items = set()\n",
    "    categories = set()\n",
    "    n_ij = {}\n",
    "    \n",
    "    for i, c in ratings:\n",
    "        items.add(i)\n",
    "        categories.add(c)\n",
    "        n_ij[(i,c)] = n_ij.get((i,c), 0) + 1\n",
    "    \n",
    "    N = len(items)\n",
    "    \n",
    "    p_j = dict(((c, sum(n_ij.get((i, c), 0) for i in items) / (1.0 * n * N)) for c in categories))\n",
    "    P_i = dict(((i, (sum(n_ij.get((i, c), 0) ** 2 for c in categories) - n) / (n * (n - 1.0))) for i in items))\n",
    "\n",
    "    P_bar = sum(P_i.values()) / (1.0 * N)\n",
    "    P_e_bar = sum(value ** 2 for value in p_j.values())\n",
    "    \n",
    "    kappa = (P_bar - P_e_bar) / (1 - P_e_bar)\n",
    "    \n",
    "    return kappa"
   ]
  },
  {
   "cell_type": "code",
   "execution_count": null,
   "metadata": {
    "collapsed": true
   },
   "outputs": [],
   "source": [
    "ratings = [(1, 'yes')] * 10 + [(1, 'no')] * 0  + \\\n",
    "[(2, 'yes')] * 8  + [(2, 'no')] * 2  + \\\n",
    "[(3, 'yes')] * 9  + [(3, 'no')] * 1  + \\\n",
    "[(4, 'yes')] * 0  + [(4, 'no')] * 10 + \\\n",
    "[(5, 'yes')] * 7  + [(5, 'no')] * 3"
   ]
  },
  {
   "cell_type": "code",
   "execution_count": 117,
   "metadata": {},
   "outputs": [
    {
     "data": {
      "text/plain": [
       "0.5302287581699346"
      ]
     },
     "execution_count": 117,
     "metadata": {},
     "output_type": "execute_result"
    }
   ],
   "source": [
    "fleiss_kappa(ratings, 10)"
   ]
  },
  {
   "cell_type": "markdown",
   "metadata": {},
   "source": [
    "References\n",
    "- https://www.wikiwand.com/en/Inter-rater_reliability\n",
    "- https://www.wikiwand.com/en/Fleiss%27_kappa"
   ]
  }
 ],
 "metadata": {
  "kernelspec": {
   "display_name": "Python 3",
   "language": "python",
   "name": "python3"
  },
  "language_info": {
   "codemirror_mode": {
    "name": "ipython",
    "version": 3
   },
   "file_extension": ".py",
   "mimetype": "text/x-python",
   "name": "python",
   "nbconvert_exporter": "python",
   "pygments_lexer": "ipython3",
   "version": "3.6.5"
  }
 },
 "nbformat": 4,
 "nbformat_minor": 2
}
